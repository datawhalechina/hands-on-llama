{
 "cells": [
  {
   "cell_type": "markdown",
   "id": "a6b573d4-3332-4eec-8ed7-d89a2658cb6f",
   "metadata": {},
   "source": [
    "## 准备"
   ]
  },
  {
   "cell_type": "code",
   "execution_count": null,
   "id": "7e7312d7",
   "metadata": {},
   "outputs": [],
   "source": [
    "# 已在本仓库，无需clone\n",
    "# !git clone https://github.com/hscspring/llama.np"
   ]
  },
  {
   "cell_type": "code",
   "execution_count": 1,
   "id": "b5d11ab2",
   "metadata": {
    "tags": []
   },
   "outputs": [
    {
     "name": "stdout",
     "output_type": "stream",
     "text": [
      "/Users/Yam/Yam/hands-on-llama/docs/chapter1/llama.np\n"
     ]
    }
   ],
   "source": [
    "%cd llama.np/"
   ]
  },
  {
   "cell_type": "code",
   "execution_count": 5,
   "id": "7a9d38ef-ab44-49bc-8fbd-ea7fb0dca02e",
   "metadata": {},
   "outputs": [
    {
     "name": "stdout",
     "output_type": "stream",
     "text": [
      "stories15M.bin\r\n"
     ]
    }
   ],
   "source": [
    "# 从这里下载模型 https://hf-mirror.com/karpathy/tinyllamas/tree/main\n",
    "# 放到llama.np目录\n",
    "!huggingface-cli download karpathy/tinyllamas stories15M.bin --local-dir ./"
   ]
  },
  {
   "cell_type": "code",
   "execution_count": 6,
   "id": "75d85e08-6291-4322-89b7-144a8e2110a1",
   "metadata": {},
   "outputs": [],
   "source": [
    "# 转换格式\n",
    "!python convert_bin_llama_to_np.py stories15M.bin"
   ]
  },
  {
   "cell_type": "code",
   "execution_count": 7,
   "id": "01275c0f-8599-45f0-a212-f1c0dbbcc795",
   "metadata": {
    "tags": []
   },
   "outputs": [
    {
     "name": "stdout",
     "output_type": "stream",
     "text": [
      "total 317464\r\n",
      "-rw-r--r--  1 Yam  staff     11357 Dec  4 23:17 LICENSE\r\n",
      "-rw-r--r--  1 Yam  staff      1988 Dec  4 23:17 README.md\r\n",
      "drwxr-xr-x  3 Yam  staff        96 Dec  4 23:19 \u001b[1m\u001b[36m__pycache__\u001b[m\u001b[m\r\n",
      "-rw-r--r--  1 Yam  staff       350 Dec  4 23:17 config.py\r\n",
      "-rw-r--r--  1 Yam  staff      4016 Dec  4 23:17 convert_bin_llama_to_np.py\r\n",
      "-rw-r--r--  1 Yam  staff       528 Dec  4 23:17 convert_hf_llama_to_np.py\r\n",
      "-rw-r--r--  1 Yam  staff      1247 Dec  4 23:17 convert_hf_tokenizer.py\r\n",
      "-rw-r--r--  1 Yam  staff       965 Dec  4 23:17 main.py\r\n",
      "-rw-r--r--  1 Yam  staff     13144 Dec  4 23:17 model.py\r\n",
      "-rw-r--r--  1 Yam  staff  60816028 Dec  4 23:19 stories15M.bin\r\n",
      "-rw-r--r--  1 Yam  staff  89463921 Dec  4 23:19 stories15M.model.npz\r\n",
      "-rw-r--r--  1 Yam  staff      1710 Dec  4 23:17 test_model.py\r\n",
      "-rw-r--r--  1 Yam  staff    868932 Dec  4 23:17 tokenizer.model.np\r\n",
      "-rw-r--r--  1 Yam  staff      2366 Dec  4 23:17 tokenizer.py\r\n"
     ]
    }
   ],
   "source": [
    "!ls -l "
   ]
  },
  {
   "cell_type": "code",
   "execution_count": 8,
   "id": "852a4d13-f716-4ab2-91c6-56e902dfcda4",
   "metadata": {
    "tags": []
   },
   "outputs": [
    {
     "name": "stdout",
     "output_type": "stream",
     "text": [
      "\n",
      "Once upon a time, there wa a little girl named Lily. She loved to play with her toy and doll. One day, she found a shiny silver ring on the ground. It wa so pretty that she wanted to keep it for herself. \n",
      "Lily' mom saw her with the silver ring and said, \"Lily, that' not your. You should put it back where you found it.\" \n",
      "Lily didn't listen and kept the ring in her pocket. Later that day, Lily' mom saw the ring and said, \"Lily, where did you get that shiny silver ring?\" \n",
      "Lily looked down and said, \"I found it in the park. I wanted it, but I thought it wa her. But it' not mine, I'm sorry.\" \n",
      "Lily' mom took the ring out of her pocket and said, \"It' okay, Lily. We can find a way to keep it safe. Let' plant it back in it place and let it so it can be a pretty metal one.\" \n",
      "Lily smiled and said, \"Okay, Mommy. Let' do that!\"\n",
      "\n",
      "Token count: 255, cost: 11.74s, 22tokens/s\n"
     ]
    }
   ],
   "source": [
    "# 生成\n",
    "!python main.py \"Once upon\""
   ]
  },
  {
   "cell_type": "markdown",
   "id": "f5ba5b6f-946d-4140-9dd2-145cde4c515b",
   "metadata": {},
   "source": [
    "## LLaMA"
   ]
  },
  {
   "cell_type": "markdown",
   "id": "717a224a-72c0-46e2-ba9d-34b0c2708e59",
   "metadata": {},
   "source": [
    "- Tokenize\n",
    "- Decoding\n",
    "- Transformer Block"
   ]
  },
  {
   "cell_type": "markdown",
   "id": "82f31fac-f4bd-40dd-a221-24aae8e2ace8",
   "metadata": {},
   "source": [
    "![](https://qnimg.lovevivian.cn/blog-llama-arch.jpg)"
   ]
  },
  {
   "cell_type": "code",
   "execution_count": 9,
   "id": "7cd63dbf-1bda-4b80-838d-0d1b123cb93f",
   "metadata": {
    "tags": []
   },
   "outputs": [],
   "source": [
    "from config import ModelArgs\n",
    "from model import Llama\n",
    "from tokenizer import Tokenizer\n",
    "import numpy as np"
   ]
  },
  {
   "cell_type": "code",
   "execution_count": 10,
   "id": "87905219-fd0d-4b78-b2d4-9200c8ac8bca",
   "metadata": {
    "tags": []
   },
   "outputs": [],
   "source": [
    "args = ModelArgs(288, 6, 6, 6, 32000, None, 256)\n",
    "\n",
    "token_model_path = \"./tokenizer.model.np\"\n",
    "model_path = \"./stories15M.model.npz\"\n",
    "\n",
    "tok = Tokenizer(token_model_path)\n",
    "llama = Llama(model_path, args)"
   ]
  },
  {
   "cell_type": "code",
   "execution_count": 11,
   "id": "92579d0b-4990-4747-bc5a-b72e5dfc9140",
   "metadata": {
    "tags": []
   },
   "outputs": [
    {
     "name": "stdout",
     "output_type": "stream",
     "text": [
      "Once upon a time, there wa a little girl named Lily. She loved to play outside and look at the pretty flower. One day, Lily' mommy gave her a tasty cookie to eat. Lily wa so happy and started to eat it right away.\n",
      "But then, something strange happened. A little bird flew into the house and took Lily' cookie away. Lily wa sad because she couldn't eat it anymore. She asked her mommy to help her get the bird' attention.\n",
      "Mommy came up with a plan. They made some bread and sprinkled it on the ground. The bird came back and ate the bread. The bird wa happy and gave Lily a tiny piece of the tasty cookie back. Lily wa so happy and gave her mommy a big hug. From then on, Lily alway checked the cookie box to make sure there were no more bird around."
     ]
    }
   ],
   "source": [
    "prompt = \"Once upon\"\n",
    "\n",
    "ids = tok.encode(prompt)\n",
    "input_ids = np.array([ids], dtype=np.int32)\n",
    "token_num = input_ids.shape[1]\n",
    "\n",
    "print(prompt, end=\"\")\n",
    "for ids in llama.generate(input_ids, args.max_seq_len, True, 1.0, 0.9, 0):\n",
    "    output_ids = ids[0].tolist()\n",
    "    if output_ids[-1] in [tok.eos_id, tok.bos_id]:\n",
    "        break\n",
    "    output_text = tok.decode(output_ids)\n",
    "    print(output_text, end=\"\")"
   ]
  },
  {
   "cell_type": "code",
   "execution_count": null,
   "id": "e369ccf6-520b-45cb-8ab3-99fdace0e030",
   "metadata": {},
   "outputs": [],
   "source": []
  }
 ],
 "metadata": {
  "kernelspec": {
   "display_name": "Python 3 (ipykernel)",
   "language": "python",
   "name": "python3"
  },
  "language_info": {
   "codemirror_mode": {
    "name": "ipython",
    "version": 3
   },
   "file_extension": ".py",
   "mimetype": "text/x-python",
   "name": "python",
   "nbconvert_exporter": "python",
   "pygments_lexer": "ipython3",
   "version": "3.12.2"
  }
 },
 "nbformat": 4,
 "nbformat_minor": 5
}
